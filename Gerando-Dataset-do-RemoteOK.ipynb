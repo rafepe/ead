{
  "cells": [
    {
      "cell_type": "markdown",
      "metadata": {
        "id": "99cbAGXURJde"
      },
      "source": [
        "# RemoteOK"
      ]
    },
    {
      "cell_type": "markdown",
      "metadata": {
        "id": "W0BMz-8XRSAN"
      },
      "source": [
        "## robots.txt"
      ]
    },
    {
      "cell_type": "code",
      "execution_count": null,
      "metadata": {
        "colab": {
          "base_uri": "https://localhost:8080/"
        },
        "id": "2-WIf0c4REMr",
        "outputId": "4e3d270b-99bc-4b53-85ea-748a1fb95149"
      },
      "outputs": [
        {
          "output_type": "stream",
          "name": "stdout",
          "text": [
            "User-agent: *\n",
            "Crawl-delay: 1\n",
            "Allow: /\n",
            "Sitemap: https://remoteok.com/sitemap.xml\n",
            "\n",
            "User-agent: AhrefsBot\n",
            "Disallow: /\n",
            "\n",
            "\n",
            "Disallow: /*?action=get_jobs\n",
            "Disallow: /*?*action=get_jobs\n",
            "Disallow: /*?*&action=get_jobs\n",
            "Disallow: /*?*&action=get_jobs&*\n",
            "\n",
            "\n",
            "User-agent: SemrushBot\n",
            "Disallow: /\n",
            "\n",
            "User-agent: SemrushBot-BA\n",
            "Disallow: /\n",
            "\n",
            "# Majestic - SEO\n",
            "User-agent: MJ12bot\n",
            "Disallow: /\n",
            "\n",
            "User-agent: Screaming Frog SEO Spider\n",
            "Disallow: /\n",
            "\n",
            "# Seozoom - SEO\n",
            "User-Agent: ZoomBot\n",
            "Disallow: /\n",
            "\n",
            "User-agent: sistrix\n",
            "Disallow: /\n",
            "\n",
            "User-agent: serpstatbot\n",
            "Disallow: /\n",
            "\n",
            "User-agent: MozBot\n",
            "Disallow: /\n",
            "\n",
            "# https://moz.com/help/moz-procedures/crawlers/rogerbot\n",
            "User-agent: rogerbot\n",
            "Disallow: /\n",
            "\n",
            "# https://moz.com/help/moz-procedures/crawlers/dotbot\n",
            "User-agent: dotbot\n",
            "Disallow: /\n",
            "\n",
            "User-agent: DataForSeoBot\n",
            "Disallow: /\n",
            "\n",
            "Disallow: /l/\n",
            "Disallow: /*ou-tout-autre*\n",
            "Disallow: /*-*-*-*-*-*-*-*-*-*-*-*-*-*-*-*-*-*-*-*-*-*\n",
            "\n"
          ]
        }
      ],
      "source": [
        "import requests\n",
        "url = \"https://remoteok.com/robots.txt\"\n",
        "\n",
        "try:\n",
        "    response = requests.get(url)\n",
        "    response.raise_for_status()\n",
        "    print(response.text)\n",
        "except requests.exceptions.RequestException as e:\n",
        "    print(f\"Erro ao ler o robots.txt: {e}\")"
      ]
    },
    {
      "cell_type": "markdown",
      "source": [
        "## BS4 e Headers"
      ],
      "metadata": {
        "id": "T685PXp571Z2"
      }
    },
    {
      "cell_type": "code",
      "source": [],
      "metadata": {
        "id": "dmEi17cmLy81"
      },
      "execution_count": null,
      "outputs": []
    },
    {
      "cell_type": "code",
      "execution_count": null,
      "metadata": {
        "id": "P0fFUFW0NxF8",
        "colab": {
          "base_uri": "https://localhost:8080/"
        },
        "outputId": "13b4ed0d-039c-4cda-b22f-c19a2292ed5e"
      },
      "outputs": [
        {
          "output_type": "stream",
          "name": "stdout",
          "text": [
            "<Response [200]>\n"
          ]
        }
      ],
      "source": [
        "from bs4 import BeautifulSoup\n",
        "import requests\n",
        "\n",
        "url = \"https://remoteok.com/\"\n",
        "\n",
        "headers = {\n",
        "    \"User-Agent\": \"Mozilla/5.0 (Windows NT 10.0; Win64; x64)\"\n",
        "}\n",
        "response = requests.get(url, headers=headers)\n",
        "response.raise_for_status()\n",
        "print(response)"
      ]
    },
    {
      "cell_type": "code",
      "execution_count": null,
      "metadata": {
        "colab": {
          "base_uri": "https://localhost:8080/"
        },
        "id": "MaDDA1UDLozF",
        "outputId": "52c695f9-ada6-43b3-c4b7-5e671dd3c84c"
      },
      "outputs": [
        {
          "output_type": "stream",
          "name": "stdout",
          "text": [
            "Erro ao acessar a página: 429 Client Error: Too Many Requests for url: https://remoteok.com/\n"
          ]
        }
      ],
      "source": [
        "#!pip install beautifulsoup4\n",
        "import requests\n",
        "import time\n",
        "from bs4 import BeautifulSoup\n",
        "import pandas as pd\n",
        "\n",
        "url = \"https://remoteok.com/\"\n",
        "\n",
        "try:\n",
        "    response = requests.get(url)\n",
        "    response.raise_for_status()\n",
        "    soup = BeautifulSoup(response.content, 'html.parser')\n",
        "\n",
        "    companies = []\n",
        "    tags_list = []\n",
        "    dates = []\n",
        "\n",
        "    jobs = soup.find_all('tr', class_='job')\n",
        "\n",
        "    for job in jobs:\n",
        "        # Extract company name\n",
        "        company_h2 = job.find('h2', itemprop='name')\n",
        "        company_name = company_h2.get_text(strip=True) if company_h2 else 'N/A'\n",
        "        companies.append(company_name)\n",
        "\n",
        "        # Extract tags\n",
        "        tags_h3 = job.find('h3', class_='tags')\n",
        "        tags = [tag.get_text(strip=True) for tag in tags_h3.find_all('a')] if tags_h3 else []\n",
        "        tags_list.append(', '.join(tags))\n",
        "\n",
        "        # Extract date\n",
        "        date_time = job.find('time')\n",
        "        date = date_time.get_text(strip=True) if date_time else 'N/A'\n",
        "        dates.append(date)\n",
        "\n",
        "        time.sleep(1) # 1 second wait\n",
        "\n",
        "    df_remoteok = pd.DataFrame({\n",
        "        'Company': companies,\n",
        "        'Tags': tags_list,\n",
        "        'Date': dates\n",
        "    })\n",
        "\n",
        "    print(\"DataFrame criado com sucesso!\")\n",
        "    print(df_remoteok.head())\n",
        "\n",
        "except requests.exceptions.RequestException as e:\n",
        "    print(f\"Erro ao acessar a página: {e}\")\n",
        "except Exception as e:\n",
        "    print(f\"Ocorreu um erro durante a extração: {e}\")\n"
      ]
    },
    {
      "cell_type": "markdown",
      "source": [
        "## sitemap.xml"
      ],
      "metadata": {
        "id": "gffOU0FT9dxk"
      }
    },
    {
      "cell_type": "code",
      "execution_count": null,
      "metadata": {
        "id": "tG5VldDrSHUr",
        "colab": {
          "base_uri": "https://localhost:8080/"
        },
        "outputId": "fde9c7ed-08ab-4d5b-dd2e-6a5518a07346"
      },
      "outputs": [
        {
          "output_type": "stream",
          "name": "stdout",
          "text": [
            "Encontradas 76 URLs no sitemap:\n",
            "https://remoteok.com/sitemap-predefined-1.xml\n",
            "https://remoteok.com/sitemap-jobs-1.xml\n",
            "https://remoteok.com/sitemap-jobs-2.xml\n",
            "https://remoteok.com/sitemap-jobs-3.xml\n",
            "https://remoteok.com/sitemap-jobs-4.xml\n",
            "https://remoteok.com/sitemap-jobs-5.xml\n",
            "https://remoteok.com/sitemap-jobs-6.xml\n",
            "https://remoteok.com/sitemap-jobs-7.xml\n",
            "https://remoteok.com/sitemap-jobs-8.xml\n",
            "https://remoteok.com/sitemap-jobs-9.xml\n",
            "https://remoteok.com/sitemap-jobs-10.xml\n",
            "https://remoteok.com/sitemap-jobs-11.xml\n",
            "https://remoteok.com/sitemap-jobs-12.xml\n",
            "https://remoteok.com/sitemap-jobs-13.xml\n",
            "https://remoteok.com/sitemap-tags-1.xml\n",
            "https://remoteok.com/sitemap-companies-1.xml\n",
            "https://remoteok.com/sitemap-companies-2.xml\n",
            "https://remoteok.com/sitemap-companies-3.xml\n",
            "https://remoteok.com/sitemap-companies-4.xml\n",
            "https://remoteok.com/sitemap-users-1.xml\n",
            "https://remoteok.com/sitemap-users-2.xml\n",
            "https://remoteok.com/sitemap-users-3.xml\n",
            "https://remoteok.com/sitemap-users-4.xml\n",
            "https://remoteok.com/sitemap-users-5.xml\n",
            "https://remoteok.com/sitemap-users-6.xml\n",
            "https://remoteok.com/sitemap-users-7.xml\n",
            "https://remoteok.com/sitemap-users-8.xml\n",
            "https://remoteok.com/sitemap-users-9.xml\n",
            "https://remoteok.com/sitemap-users-10.xml\n",
            "https://remoteok.com/sitemap-users-11.xml\n",
            "https://remoteok.com/sitemap-users-12.xml\n",
            "https://remoteok.com/sitemap-users-13.xml\n",
            "https://remoteok.com/sitemap-users-14.xml\n",
            "https://remoteok.com/sitemap-users-15.xml\n",
            "https://remoteok.com/sitemap-users-16.xml\n",
            "https://remoteok.com/sitemap-users-17.xml\n",
            "https://remoteok.com/sitemap-users-18.xml\n",
            "https://remoteok.com/sitemap-users-19.xml\n",
            "https://remoteok.com/sitemap-users-20.xml\n",
            "https://remoteok.com/sitemap-users-21.xml\n",
            "https://remoteok.com/sitemap-users-22.xml\n",
            "https://remoteok.com/sitemap-users-23.xml\n",
            "https://remoteok.com/sitemap-users-24.xml\n",
            "https://remoteok.com/sitemap-users-25.xml\n",
            "https://remoteok.com/sitemap-users-26.xml\n",
            "https://remoteok.com/sitemap-users-27.xml\n",
            "https://remoteok.com/sitemap-users-28.xml\n",
            "https://remoteok.com/sitemap-users-29.xml\n",
            "https://remoteok.com/sitemap-users-30.xml\n",
            "https://remoteok.com/sitemap-users-31.xml\n",
            "https://remoteok.com/sitemap-users-32.xml\n",
            "https://remoteok.com/sitemap-users-33.xml\n",
            "https://remoteok.com/sitemap-users-34.xml\n",
            "https://remoteok.com/sitemap-users-35.xml\n",
            "https://remoteok.com/sitemap-users-36.xml\n",
            "https://remoteok.com/sitemap-users-37.xml\n",
            "https://remoteok.com/sitemap-users-38.xml\n",
            "https://remoteok.com/sitemap-users-39.xml\n",
            "https://remoteok.com/sitemap-users-40.xml\n",
            "https://remoteok.com/sitemap-users-41.xml\n",
            "https://remoteok.com/sitemap-users-42.xml\n",
            "https://remoteok.com/sitemap-users-43.xml\n",
            "https://remoteok.com/sitemap-users-44.xml\n",
            "https://remoteok.com/sitemap-users-45.xml\n",
            "https://remoteok.com/sitemap-users-46.xml\n",
            "https://remoteok.com/sitemap-users-47.xml\n",
            "https://remoteok.com/sitemap-users-48.xml\n",
            "https://remoteok.com/sitemap-users-49.xml\n",
            "https://remoteok.com/sitemap-users-50.xml\n",
            "https://remoteok.com/sitemap-users-51.xml\n",
            "https://remoteok.com/sitemap-users-52.xml\n",
            "https://remoteok.com/sitemap-users-53.xml\n",
            "https://remoteok.com/sitemap-users-54.xml\n",
            "https://remoteok.com/sitemap-users-55.xml\n",
            "https://remoteok.com/sitemap-countries-1.xml\n",
            "https://remoteok.com/sitemap-cities-1.xml\n"
          ]
        }
      ],
      "source": [
        "# URL do Sitemap\n",
        "sitemap_url = \"https://remoteok.com/sitemap.xml\"\n",
        "\n",
        "response = requests.get(sitemap_url, headers=headers)\n",
        "if response.status_code == 200:\n",
        "    soup = BeautifulSoup(response.content, 'xml') # xml parser\n",
        "    urls = [loc.get_text(strip=True) for loc in soup.find_all('loc')]\n",
        "\n",
        "    print(f\"Encontradas {len(urls)} URLs no sitemap:\")\n",
        "    for url in urls:\n",
        "        print(url)\n",
        "\n",
        "else:\n",
        "    print(f'Erro na requisição do sitemap. Status code: {response.status_code}')"
      ]
    },
    {
      "cell_type": "markdown",
      "source": [
        "## sitemap-tags-1"
      ],
      "metadata": {
        "id": "39kv71bl9jC_"
      }
    },
    {
      "cell_type": "code",
      "execution_count": null,
      "metadata": {
        "colab": {
          "base_uri": "https://localhost:8080/"
        },
        "collapsed": true,
        "id": "s9NX3nAfACxl",
        "outputId": "4ba1f2e6-b629-4d25-9603-af5241f12195"
      },
      "outputs": [
        {
          "output_type": "stream",
          "name": "stdout",
          "text": [
            "Encontradas 276 URLs de tags no sitemap:\n",
            "https://remoteok.com/remote-engineer-jobs\n",
            "https://remoteok.com/remote-exec-jobs\n",
            "https://remoteok.com/remote-senior-jobs\n",
            "https://remoteok.com/remote-dev-jobs\n",
            "https://remoteok.com/remote-finance-jobs\n",
            "https://remoteok.com/remote-sys-admin-jobs\n",
            "https://remoteok.com/remote-javascript-jobs\n",
            "https://remoteok.com/remote-backend-jobs\n",
            "https://remoteok.com/remote-golang-jobs\n",
            "https://remoteok.com/remote-cloud-jobs\n",
            "https://remoteok.com/remote-medical-jobs\n",
            "https://remoteok.com/remote-front-end-jobs\n",
            "https://remoteok.com/remote-full-stack-jobs\n",
            "https://remoteok.com/remote-ops-jobs\n",
            "https://remoteok.com/remote-design-jobs\n",
            "https://remoteok.com/remote-react-jobs\n",
            "https://remoteok.com/remote-infosec-jobs\n",
            "https://remoteok.com/remote-marketing-jobs\n",
            "https://remoteok.com/remote-mobile-jobs\n",
            "https://remoteok.com/remote-content-writing-jobs\n",
            "https://remoteok.com/remote-saas-jobs\n",
            "https://remoteok.com/remote-recruiter-jobs\n",
            "https://remoteok.com/remote-full-time-jobs\n",
            "https://remoteok.com/remote-api-jobs\n",
            "https://remoteok.com/remote-sales-jobs\n",
            "https://remoteok.com/remote-ruby-jobs\n",
            "https://remoteok.com/remote-education-jobs\n",
            "https://remoteok.com/remote-devops-jobs\n",
            "https://remoteok.com/remote-stats-jobs\n",
            "https://remoteok.com/remote-python-jobs\n",
            "https://remoteok.com/remote-node-jobs\n",
            "https://remoteok.com/remote-english-jobs\n",
            "https://remoteok.com/remote-non-tech-jobs\n",
            "https://remoteok.com/remote-video-jobs\n",
            "https://remoteok.com/remote-travel-jobs\n",
            "https://remoteok.com/remote-quality-assurance-jobs\n",
            "https://remoteok.com/remote-ecommerce-jobs\n",
            "https://remoteok.com/remote-teaching-jobs\n",
            "https://remoteok.com/remote-linux-jobs\n",
            "https://remoteok.com/remote-java-jobs\n",
            "https://remoteok.com/remote-crypto-jobs\n",
            "https://remoteok.com/remote-junior-jobs\n",
            "https://remoteok.com/remote-git-jobs\n",
            "https://remoteok.com/remote-legal-jobs\n",
            "https://remoteok.com/remote-android-jobs\n",
            "https://remoteok.com/remote-accounting-jobs\n",
            "https://remoteok.com/remote-admin-jobs\n",
            "https://remoteok.com/remote-microsoft-jobs\n",
            "https://remoteok.com/remote-excel-jobs\n",
            "https://remoteok.com/remote-php-jobs\n",
            "https://remoteok.com/remote-amazon-jobs\n",
            "https://remoteok.com/remote-serverless-jobs\n",
            "https://remoteok.com/remote-css-jobs\n",
            "https://remoteok.com/remote-software-jobs\n",
            "https://remoteok.com/remote-analyst-jobs\n",
            "https://remoteok.com/remote-angular-jobs\n",
            "https://remoteok.com/remote-ios-jobs\n",
            "https://remoteok.com/remote-customer-support-jobs\n",
            "https://remoteok.com/remote-html-jobs\n",
            "https://remoteok.com/remote-salesforce-jobs\n",
            "https://remoteok.com/remote-ads-jobs\n",
            "https://remoteok.com/remote-product-designer-jobs\n",
            "https://remoteok.com/remote-hr-jobs\n",
            "https://remoteok.com/remote-sql-jobs\n",
            "https://remoteok.com/remote-c-jobs\n",
            "https://remoteok.com/remote-web-dev-jobs\n",
            "https://remoteok.com/remote-nosql-jobs\n",
            "https://remoteok.com/remote-postgres-jobs\n",
            "https://remoteok.com/remote-c-plus-plus-jobs\n",
            "https://remoteok.com/remote-part-time-jobs\n",
            "https://remoteok.com/remote-jira-jobs\n",
            "https://remoteok.com/remote-c-sharp-jobs\n",
            "https://remoteok.com/remote-seo-jobs\n",
            "https://remoteok.com/remote-apache-jobs\n",
            "https://remoteok.com/remote-data-science-jobs\n",
            "https://remoteok.com/remote-virtual-assistant-jobs\n",
            "https://remoteok.com/remote-react-native-jobs\n",
            "https://remoteok.com/remote-mongo-jobs\n",
            "https://remoteok.com/remote-testing-jobs\n",
            "https://remoteok.com/remote-architecture-jobs\n",
            "https://remoteok.com/remote-director-jobs\n",
            "https://remoteok.com/remote-music-jobs\n",
            "https://remoteok.com/remote-shopify-jobs\n",
            "https://remoteok.com/remote-wordpress-jobs\n",
            "https://remoteok.com/remote-laravel-jobs\n",
            "https://remoteok.com/remote-elasticsearch-jobs\n",
            "https://remoteok.com/remote-blockchain-jobs\n",
            "https://remoteok.com/remote-web3-jobs\n",
            "https://remoteok.com/remote-drupal-jobs\n",
            "https://remoteok.com/remote-docker-jobs\n",
            "https://remoteok.com/remote-graphql-jobs\n",
            "https://remoteok.com/remote-payroll-jobs\n",
            "https://remoteok.com/remote-internship-jobs\n",
            "https://remoteok.com/remote-machine-learning-jobs\n",
            "https://remoteok.com/remote-architect-jobs\n",
            "https://remoteok.com/remote-scala-jobs\n",
            "https://remoteok.com/remote-web-jobs\n",
            "https://remoteok.com/remote-objective-c-jobs\n",
            "https://remoteok.com/remote-social-media-jobs\n",
            "https://remoteok.com/remote-vue-jobs\n",
            "https://remoteok.com/remote-biotech-jobs\n",
            "https://remoteok.com/remote-math-jobs\n",
            "https://remoteok.com/remote-nft-jobs\n",
            "https://remoteok.com/remote-scheme-jobs\n",
            "https://remoteok.com/remote-dba-jobs\n",
            "https://remoteok.com/remote-game-dev-jobs\n",
            "https://remoteok.com/remote-test-jobs\n",
            "https://remoteok.com/remote-copywriting-jobs\n",
            "https://remoteok.com/remote-typescript-jobs\n",
            "https://remoteok.com/remote-consulting-jobs\n",
            "https://remoteok.com/remote-growth-jobs\n",
            "https://remoteok.com/remote-heroku-jobs\n",
            "https://remoteok.com/remote-swift-jobs\n",
            "https://remoteok.com/remote-tech-lead-jobs\n",
            "https://remoteok.com/remote-flutter-jobs\n",
            "https://remoteok.com/remote-jquery-jobs\n",
            "https://remoteok.com/remote-firebase-jobs\n",
            "https://remoteok.com/remote-robotics-jobs\n",
            "https://remoteok.com/remote-english-teacher-jobs\n",
            "https://remoteok.com/remote-assembly-jobs\n",
            "https://remoteok.com/remote-redis-jobs\n",
            "https://remoteok.com/remote-meteor-jobs\n",
            "https://remoteok.com/remote-lamp-jobs\n",
            "https://remoteok.com/remote-aws-jobs\n",
            "https://remoteok.com/remote-nginx-jobs\n",
            "https://remoteok.com/remote-clojure-jobs\n",
            "https://remoteok.com/remote-consultant-jobs\n",
            "https://remoteok.com/remote-training-jobs\n",
            "https://remoteok.com/remote-defi-jobs\n",
            "https://remoteok.com/remote-solidity-jobs\n",
            "https://remoteok.com/remote-embedded-jobs\n",
            "https://remoteok.com/remote-ethereum-jobs\n",
            "https://remoteok.com/remote-haskell-jobs\n",
            "https://remoteok.com/remote-big-data-jobs\n",
            "https://remoteok.com/remote-cassandra-jobs\n",
            "https://remoteok.com/remote-photoshop-jobs\n",
            "https://remoteok.com/remote-xamarin-jobs\n",
            "https://remoteok.com/remote-ember-jobs\n",
            "https://remoteok.com/remote-bus-dev-jobs\n",
            "https://remoteok.com/remote-adult-jobs\n",
            "https://remoteok.com/remote-telecom-jobs\n",
            "https://remoteok.com/remote-scrum-jobs\n",
            "https://remoteok.com/remote-rust-jobs\n",
            "https://remoteok.com/remote-perl-jobs\n",
            "https://remoteok.com/remote-illustrator-jobs\n",
            "https://remoteok.com/remote-macos-jobs\n",
            "https://remoteok.com/remote-telecommuting-jobs\n",
            "https://remoteok.com/remote-symfony-jobs\n",
            "https://remoteok.com/remote-erlang-jobs\n",
            "https://remoteok.com/remote-ansible-jobs\n",
            "https://remoteok.com/remote-f-sharp-jobs\n",
            "https://remoteok.com/remote-mern-jobs\n",
            "https://remoteok.com/remote-esports-jobs\n",
            "https://remoteok.com/remote-redux-jobs\n",
            "https://remoteok.com/remote-couchbase-jobs\n",
            "https://remoteok.com/remote-vfx-jobs\n",
            "https://remoteok.com/remote-post-production-jobs\n",
            "https://remoteok.com/remote-kubernetes-jobs\n",
            "https://remoteok.com/remote-designer-jobs\n",
            "https://remoteok.com/remote-data-jobs\n",
            "https://remoteok.com/remote-smart-contracts-jobs\n",
            "https://remoteok.com/remote-bitcoin-jobs\n",
            "https://remoteok.com/remote-groovy-jobs\n",
            "https://remoteok.com/remote-b2b-jobs\n",
            "https://remoteok.com/remote-dataops-jobs\n",
            "https://remoteok.com/remote-django-jobs\n",
            "https://remoteok.com/remote-chatbot-jobs\n",
            "https://remoteok.com/remote-startup-jobs\n",
            "https://remoteok.com/remote-grafana-jobs\n",
            "https://remoteok.com/remote-product-jobs\n",
            "https://remoteok.com/remote-health-tech-jobs\n",
            "https://remoteok.com/remote-rabbitmq-jobs\n",
            "https://remoteok.com/remote-copywriter-jobs\n",
            "https://remoteok.com/remote-net-jobs\n",
            "https://remoteok.com/remote-distributed-systems-jobs\n",
            "https://remoteok.com/remote-azure-jobs\n",
            "https://remoteok.com/remote-smart-contract-jobs\n",
            "https://remoteok.com/remote-data-viz-jobs\n",
            "https://remoteok.com/remote-project-management-jobs\n",
            "https://remoteok.com/remote-work-from-home-jobs\n",
            "https://remoteok.com/remote-controller-jobs\n",
            "https://remoteok.com/remote-dot-net-jobs\n",
            "https://remoteok.com/remote-fastapi-jobs\n",
            "https://remoteok.com/remote-flask-jobs\n",
            "https://remoteok.com/remote-figma-jobs\n",
            "https://remoteok.com/remote-gaming-jobs\n",
            "https://remoteok.com/remote-leadership-jobs\n",
            "https://remoteok.com/remote-kafka-jobs\n",
            "https://remoteok.com/remote-automic-design-jobs\n",
            "https://remoteok.com/remote-other-jobs\n",
            "https://remoteok.com/remote-kotlin-jobs\n",
            "https://remoteok.com/remote-open-source-jobs\n",
            "https://remoteok.com/remote-next-jobs\n",
            "https://remoteok.com/remote-gcp-jobs\n",
            "https://remoteok.com/remote-algorithms-jobs\n",
            "https://remoteok.com/remote-outreach-jobs\n",
            "https://remoteok.com/remote-jest-jobs\n",
            "https://remoteok.com/remote-pandas-jobs\n",
            "https://remoteok.com/remote-product-management-jobs\n",
            "https://remoteok.com/remote-data-processing-jobs\n",
            "https://remoteok.com/remote-product-design-jobs\n",
            "https://remoteok.com/remote-remote-jobs\n",
            "https://remoteok.com/remote-tester-jobs\n",
            "https://remoteok.com/remote-data-structures-jobs\n",
            "https://remoteok.com/remote-martech-jobs\n",
            "https://remoteok.com/remote-crm-jobs\n",
            "https://remoteok.com/remote-game-jobs\n",
            "https://remoteok.com/remote-tech-jobs\n",
            "https://remoteok.com/remote-hardware-jobs\n",
            "https://remoteok.com/remote-scalability-jobs\n",
            "https://remoteok.com/remote-insurance-jobs\n",
            "https://remoteok.com/remote-software-engineer-jobs\n",
            "https://remoteok.com/remote-bootstrap-jobs\n",
            "https://remoteok.com/remote-writing-jobs\n",
            "https://remoteok.com/remote-virtual-reality-jobs\n",
            "https://remoteok.com/remote-mobiledev-jobs\n",
            "https://remoteok.com/remote-terraform-jobs\n",
            "https://remoteok.com/remote-etl-jobs\n",
            "https://remoteok.com/remote-infrastructure-jobs\n",
            "https://remoteok.com/remote-matlab-jobs\n",
            "https://remoteok.com/remote-ml-jobs\n",
            "https://remoteok.com/remote-ceo-jobs\n",
            "https://remoteok.com/remote-landing-page-jobs\n",
            "https://remoteok.com/remote-monitoring-jobs\n",
            "https://remoteok.com/remote-infra-jobs\n",
            "https://remoteok.com/remote-project-manager-jobs\n",
            "https://remoteok.com/remote-webrtc-jobs\n",
            "https://remoteok.com/remote-windows-jobs\n",
            "https://remoteok.com/remote-platform-jobs\n",
            "https://remoteok.com/remote-cryptography-jobs\n",
            "https://remoteok.com/remote-memory-tuning-jobs\n",
            "https://remoteok.com/remote-performance-jobs\n",
            "https://remoteok.com/remote-applicationdev-jobs\n",
            "https://remoteok.com/remote-web-app-jobs\n",
            "https://remoteok.com/remote-linode-jobs\n",
            "https://remoteok.com/remote-associate-jobs\n",
            "https://remoteok.com/remote-tokyo-jobs\n",
            "https://remoteok.com/remote-revenue-jobs\n",
            "https://remoteok.com/remote-abap-jobs\n",
            "https://remoteok.com/remote-vc-jobs\n",
            "https://remoteok.com/remote-stimulus-jobs\n",
            "https://remoteok.com/remote-funding-jobs\n",
            "https://remoteok.com/remote-hoteltech-jobs\n",
            "https://remoteok.com/remote-japan-jobs\n",
            "https://remoteok.com/remote-sre-jobs\n",
            "https://remoteok.com/remote-speech-jobs\n",
            "https://remoteok.com/remote-social-impact-jobs\n",
            "https://remoteok.com/remote-google-cloud-jobs\n",
            "https://remoteok.com/remote-data-entry-jobs\n",
            "https://remoteok.com/remote-onboarding-jobs\n",
            "https://remoteok.com/remote-product-manager-jobs\n",
            "https://remoteok.com/remote-evm-jobs\n",
            "https://remoteok.com/remote-writer-jobs\n",
            "https://remoteok.com/remote-community-jobs\n",
            "https://remoteok.com/remote-cybersecurity-jobs\n",
            "https://remoteok.com/remote-microservices-jobs\n",
            "https://remoteok.com/remote-seed-jobs\n",
            "https://remoteok.com/remote-platform-engineer-jobs\n",
            "https://remoteok.com/remote-dao-jobs\n",
            "https://remoteok.com/remote-dynamodb-jobs\n",
            "https://remoteok.com/remote-creative-jobs\n",
            "https://remoteok.com/remote-agile-jobs\n",
            "https://remoteok.com/remote-magento-jobs\n",
            "https://remoteok.com/remote-code-jobs\n",
            "https://remoteok.com/remote-fun-jobs\n",
            "https://remoteok.com/remote-nestjs-jobs\n",
            "https://remoteok.com/remote-databases-jobs\n",
            "https://remoteok.com/remote-obj-c-jobs\n",
            "https://remoteok.com/remote-net-core-jobs\n",
            "https://remoteok.com/remote-tailwind-jobs\n",
            "https://remoteok.com/remote-support-jobs\n",
            "https://remoteok.com/remote-technology-jobs\n",
            "https://remoteok.com/remote-dashboard-jobs\n",
            "https://remoteok.com/remote-site-reliability-engineer-jobs\n",
            "https://remoteok.com/remote-analysis-jobs\n",
            "https://remoteok.com/remote-reactnative-jobs\n"
          ]
        }
      ],
      "source": [
        "sitemap_tags_url = \"https://remoteok.com/sitemap-tags-1.xml\"\n",
        "\n",
        "response = requests.get(sitemap_tags_url, headers=headers)\n",
        "if response.status_code == 200:\n",
        "    soup_tags = BeautifulSoup(response.content, 'xml') # xml parser\n",
        "    tag_urls = [loc.get_text(strip=True) for loc in soup_tags.find_all('loc')]\n",
        "\n",
        "    print(f\"Encontradas {len(tag_urls)} URLs de tags no sitemap:\")\n",
        "    for url in tag_urls:\n",
        "        print(url)\n",
        "\n",
        "else:\n",
        "    print(f'Erro na requisição do sitemap de tags. Status code: {response.status_code}')"
      ]
    },
    {
      "cell_type": "markdown",
      "source": [
        "## Junção dos sitemap-jobs"
      ],
      "metadata": {
        "id": "tRbaqwGX9p4a"
      }
    },
    {
      "cell_type": "code",
      "execution_count": null,
      "metadata": {
        "colab": {
          "base_uri": "https://localhost:8080/"
        },
        "id": "LQj6OSsCUeGP",
        "outputId": "b737bf06-d7d5-4909-9aac-cca2f4a711ca"
      },
      "outputs": [
        {
          "output_type": "execute_result",
          "data": {
            "text/plain": [
              "['https://remoteok.com/sitemap-jobs-1.xml',\n",
              " 'https://remoteok.com/sitemap-jobs-2.xml',\n",
              " 'https://remoteok.com/sitemap-jobs-3.xml',\n",
              " 'https://remoteok.com/sitemap-jobs-4.xml',\n",
              " 'https://remoteok.com/sitemap-jobs-5.xml',\n",
              " 'https://remoteok.com/sitemap-jobs-6.xml',\n",
              " 'https://remoteok.com/sitemap-jobs-7.xml',\n",
              " 'https://remoteok.com/sitemap-jobs-8.xml',\n",
              " 'https://remoteok.com/sitemap-jobs-9.xml',\n",
              " 'https://remoteok.com/sitemap-jobs-10.xml',\n",
              " 'https://remoteok.com/sitemap-jobs-11.xml',\n",
              " 'https://remoteok.com/sitemap-jobs-12.xml',\n",
              " 'https://remoteok.com/sitemap-jobs-13.xml']"
            ]
          },
          "metadata": {},
          "execution_count": 6
        }
      ],
      "source": [
        "job_sitemaps = [f\"https://remoteok.com/sitemap-jobs-{i}.xml\" for i in range(1, 14)]\n",
        "job_sitemaps"
      ]
    },
    {
      "cell_type": "code",
      "execution_count": null,
      "metadata": {
        "colab": {
          "base_uri": "https://localhost:8080/"
        },
        "id": "YpX_ihdXUrMz",
        "outputId": "10ef8c8b-5d3d-4ea1-9407-b05348c8286e"
      },
      "outputs": [
        {
          "output_type": "stream",
          "name": "stdout",
          "text": [
            "Processando sitemap: https://remoteok.com/sitemap-jobs-1.xml\n",
            "Processando sitemap: https://remoteok.com/sitemap-jobs-2.xml\n",
            "Processando sitemap: https://remoteok.com/sitemap-jobs-3.xml\n",
            "Processando sitemap: https://remoteok.com/sitemap-jobs-4.xml\n",
            "Processando sitemap: https://remoteok.com/sitemap-jobs-5.xml\n",
            "Processando sitemap: https://remoteok.com/sitemap-jobs-6.xml\n",
            "Processando sitemap: https://remoteok.com/sitemap-jobs-7.xml\n",
            "Processando sitemap: https://remoteok.com/sitemap-jobs-8.xml\n",
            "Processando sitemap: https://remoteok.com/sitemap-jobs-9.xml\n",
            "Processando sitemap: https://remoteok.com/sitemap-jobs-10.xml\n",
            "Processando sitemap: https://remoteok.com/sitemap-jobs-11.xml\n",
            "Processando sitemap: https://remoteok.com/sitemap-jobs-12.xml\n",
            "Processando sitemap: https://remoteok.com/sitemap-jobs-13.xml\n",
            "\n",
            "DataFrame de URLs de vagas criado com sucesso!\n",
            "                                                 URL\n",
            "0  https://remoteok.com/remote-jobs/remote-back-e...\n",
            "1  https://remoteok.com/remote-jobs/remote-senior...\n",
            "2  https://remoteok.com/remote-jobs/remote-staff-...\n",
            "3  https://remoteok.com/remote-jobs/remote-senior...\n",
            "4    https://remoteok.com/remote-jobs/remote-1093471\n",
            "Total de URLs de vagas extraídas: 61906\n"
          ]
        }
      ],
      "source": [
        "import time\n",
        "# Função para extrair URLs e lastmod de um sitemap\n",
        "def extract_urls_from_sitemap(sitemap_url, headers):\n",
        "    urls = []\n",
        "    try:\n",
        "        response = requests.get(sitemap_url, headers=headers)\n",
        "        response.raise_for_status() # Raise an exception for bad status codes\n",
        "        soup = BeautifulSoup(response.content, 'xml') # xml parser\n",
        "\n",
        "        for url_tag in soup.find_all('url'):\n",
        "            loc_tag = url_tag.find('loc')\n",
        "\n",
        "            if loc_tag:\n",
        "                urls.append(loc_tag.get_text(strip=True))\n",
        "            else:\n",
        "                urls.append(None) # Append None if no loc tag\n",
        "\n",
        "    except requests.exceptions.RequestException as e:\n",
        "        print(f\"Erro ao acessar o sitemap {sitemap_url}: {e}\")\n",
        "    except Exception as e:\n",
        "        print(f\"Ocorreu um erro ao processar o sitemap {sitemap_url}: {e}\")\n",
        "\n",
        "    return urls\n",
        "\n",
        "all_urls = []\n",
        "\n",
        "\n",
        "# Loop por todos os sitemaps de vagas\n",
        "for sitemap_url in job_sitemaps:\n",
        "    print(f\"Processando sitemap: {sitemap_url}\")\n",
        "    urls = extract_urls_from_sitemap(sitemap_url, headers)\n",
        "    all_urls.extend(urls)\n",
        "    time.sleep(1) # Respect crawl delay\n",
        "\n",
        "# Criar DataFrame\n",
        "df_jobs_sitemaps = pd.DataFrame({\n",
        "    'URL': all_urls,\n",
        "})\n",
        "\n",
        "print(\"\\nDataFrame de URLs de vagas criado com sucesso!\")\n",
        "print(df_jobs_sitemaps.head())\n",
        "print(f\"Total de URLs de vagas extraídas: {len(df_jobs_sitemaps)}\")\n"
      ]
    },
    {
      "cell_type": "code",
      "execution_count": null,
      "metadata": {
        "colab": {
          "base_uri": "https://localhost:8080/"
        },
        "id": "dr1iNCPRWSre",
        "outputId": "d6e02707-e4b2-420d-986a-952ce130b601"
      },
      "outputs": [
        {
          "output_type": "stream",
          "name": "stdout",
          "text": [
            "\n",
            "DataFrame com URLs únicas:\n",
            "                                                 URL\n",
            "0  https://remoteok.com/remote-jobs/remote-back-e...\n",
            "1  https://remoteok.com/remote-jobs/remote-senior...\n",
            "2  https://remoteok.com/remote-jobs/remote-staff-...\n",
            "3  https://remoteok.com/remote-jobs/remote-senior...\n",
            "4    https://remoteok.com/remote-jobs/remote-1093471\n",
            "Total de URLs de vagas únicas: 60802\n"
          ]
        }
      ],
      "source": [
        "df_jobs_sitemaps = df_jobs_sitemaps.drop_duplicates(subset=['URL'])\n",
        "\n",
        "print(\"\\nDataFrame com URLs únicas:\")\n",
        "print(df_jobs_sitemaps.head())\n",
        "print(f\"Total de URLs de vagas únicas: {len(df_jobs_sitemaps)}\")"
      ]
    },
    {
      "cell_type": "code",
      "execution_count": null,
      "metadata": {
        "colab": {
          "base_uri": "https://localhost:8080/",
          "height": 356
        },
        "id": "vSKHYjG-jqmz",
        "outputId": "95f082ee-0187-4c56-fcf1-d3704da2a525"
      },
      "outputs": [
        {
          "output_type": "error",
          "ename": "ValueError",
          "evalue": "mount failed",
          "traceback": [
            "\u001b[0;31m---------------------------------------------------------------------------\u001b[0m",
            "\u001b[0;31mValueError\u001b[0m                                Traceback (most recent call last)",
            "\u001b[0;32m/tmp/ipython-input-9-2457532656.py\u001b[0m in \u001b[0;36m<cell line: 0>\u001b[0;34m()\u001b[0m\n\u001b[1;32m      1\u001b[0m \u001b[0;32mfrom\u001b[0m \u001b[0mgoogle\u001b[0m\u001b[0;34m.\u001b[0m\u001b[0mcolab\u001b[0m \u001b[0;32mimport\u001b[0m \u001b[0mdrive\u001b[0m\u001b[0;34m\u001b[0m\u001b[0;34m\u001b[0m\u001b[0m\n\u001b[0;32m----> 2\u001b[0;31m \u001b[0mdrive\u001b[0m\u001b[0;34m.\u001b[0m\u001b[0mmount\u001b[0m\u001b[0;34m(\u001b[0m\u001b[0;34m'/content/drive'\u001b[0m\u001b[0;34m)\u001b[0m\u001b[0;34m\u001b[0m\u001b[0;34m\u001b[0m\u001b[0m\n\u001b[0m\u001b[1;32m      3\u001b[0m \u001b[0;34m\u001b[0m\u001b[0m\n\u001b[1;32m      4\u001b[0m \u001b[0;31m# Salvar o DataFrame como um arquivo CSV no Google Drive\u001b[0m\u001b[0;34m\u001b[0m\u001b[0;34m\u001b[0m\u001b[0m\n\u001b[1;32m      5\u001b[0m \u001b[0mfile_path\u001b[0m \u001b[0;34m=\u001b[0m \u001b[0;34m'/content/drive/MyDrive/Agentes/df_jobs_sitemaps.csv'\u001b[0m\u001b[0;34m\u001b[0m\u001b[0;34m\u001b[0m\u001b[0m\n",
            "\u001b[0;32m/usr/local/lib/python3.11/dist-packages/google/colab/drive.py\u001b[0m in \u001b[0;36mmount\u001b[0;34m(mountpoint, force_remount, timeout_ms, readonly)\u001b[0m\n\u001b[1;32m     98\u001b[0m \u001b[0;32mdef\u001b[0m \u001b[0mmount\u001b[0m\u001b[0;34m(\u001b[0m\u001b[0mmountpoint\u001b[0m\u001b[0;34m,\u001b[0m \u001b[0mforce_remount\u001b[0m\u001b[0;34m=\u001b[0m\u001b[0;32mFalse\u001b[0m\u001b[0;34m,\u001b[0m \u001b[0mtimeout_ms\u001b[0m\u001b[0;34m=\u001b[0m\u001b[0;36m120000\u001b[0m\u001b[0;34m,\u001b[0m \u001b[0mreadonly\u001b[0m\u001b[0;34m=\u001b[0m\u001b[0;32mFalse\u001b[0m\u001b[0;34m)\u001b[0m\u001b[0;34m:\u001b[0m\u001b[0;34m\u001b[0m\u001b[0;34m\u001b[0m\u001b[0m\n\u001b[1;32m     99\u001b[0m   \u001b[0;34m\"\"\"Mount your Google Drive at the specified mountpoint path.\"\"\"\u001b[0m\u001b[0;34m\u001b[0m\u001b[0;34m\u001b[0m\u001b[0m\n\u001b[0;32m--> 100\u001b[0;31m   return _mount(\n\u001b[0m\u001b[1;32m    101\u001b[0m       \u001b[0mmountpoint\u001b[0m\u001b[0;34m,\u001b[0m\u001b[0;34m\u001b[0m\u001b[0;34m\u001b[0m\u001b[0m\n\u001b[1;32m    102\u001b[0m       \u001b[0mforce_remount\u001b[0m\u001b[0;34m=\u001b[0m\u001b[0mforce_remount\u001b[0m\u001b[0;34m,\u001b[0m\u001b[0;34m\u001b[0m\u001b[0;34m\u001b[0m\u001b[0m\n",
            "\u001b[0;32m/usr/local/lib/python3.11/dist-packages/google/colab/drive.py\u001b[0m in \u001b[0;36m_mount\u001b[0;34m(mountpoint, force_remount, timeout_ms, ephemeral, readonly)\u001b[0m\n\u001b[1;32m    277\u001b[0m             \u001b[0;34m'https://research.google.com/colaboratory/faq.html#drive-timeout'\u001b[0m\u001b[0;34m\u001b[0m\u001b[0;34m\u001b[0m\u001b[0m\n\u001b[1;32m    278\u001b[0m         )\n\u001b[0;32m--> 279\u001b[0;31m       \u001b[0;32mraise\u001b[0m \u001b[0mValueError\u001b[0m\u001b[0;34m(\u001b[0m\u001b[0;34m'mount failed'\u001b[0m \u001b[0;34m+\u001b[0m \u001b[0mextra_reason\u001b[0m\u001b[0;34m)\u001b[0m\u001b[0;34m\u001b[0m\u001b[0;34m\u001b[0m\u001b[0m\n\u001b[0m\u001b[1;32m    280\u001b[0m     \u001b[0;32melif\u001b[0m \u001b[0mcase\u001b[0m \u001b[0;34m==\u001b[0m \u001b[0;36m4\u001b[0m\u001b[0;34m:\u001b[0m\u001b[0;34m\u001b[0m\u001b[0;34m\u001b[0m\u001b[0m\n\u001b[1;32m    281\u001b[0m       \u001b[0;31m# Terminate the DriveFS binary before killing bash.\u001b[0m\u001b[0;34m\u001b[0m\u001b[0;34m\u001b[0m\u001b[0m\n",
            "\u001b[0;31mValueError\u001b[0m: mount failed"
          ]
        }
      ],
      "source": [
        "from google.colab import drive\n",
        "drive.mount('/content/drive')\n",
        "\n",
        "# Salvar o DataFrame como um arquivo CSV no Google Drive\n",
        "file_path = '/content/drive/MyDrive/Agentes/df_jobs_sitemaps.csv'\n",
        "df_jobs_sitemaps.to_csv(file_path, index=False)\n",
        "\n",
        "print(f\"DataFrame salvo com sucesso em: {file_path}\")"
      ]
    },
    {
      "cell_type": "code",
      "execution_count": null,
      "metadata": {
        "id": "n_cHkKOJW6xZ"
      },
      "outputs": [],
      "source": [
        "jobs_sitemaps_list = df_jobs_sitemaps['URL'].tolist()\n",
        "print(\"\\nDataFrame transformado em lista:\")\n",
        "print(jobs_sitemaps_list[:5]) # Printando os primeiros 5 elementos para verificar"
      ]
    },
    {
      "cell_type": "markdown",
      "source": [
        "## Scrap URL list"
      ],
      "metadata": {
        "id": "qkuk9L0d96ZY"
      }
    },
    {
      "cell_type": "code",
      "execution_count": null,
      "metadata": {
        "id": "XXLykmikcg_F"
      },
      "outputs": [],
      "source": [
        "job_text_data = []\n",
        "\n",
        "# Loop para os 5 primeiros valores da lista jobs_sitemaps_list\n",
        "for i, url in enumerate(jobs_sitemaps_list[1000:2000], start=0):\n",
        "    try:\n",
        "        print(f\"{i} Processando URL para extrair data e texto: {url}\")\n",
        "\n",
        "        response = requests.get(url, headers=headers, timeout=10)\n",
        "        response.raise_for_status()  # Lança exceção para status ruins\n",
        "\n",
        "        soup = BeautifulSoup(response.content, 'html.parser')\n",
        "\n",
        "        # Encontrar o tempo da aplicação da vaga\n",
        "        time_element = soup.select_one('td.time time')\n",
        "        datetime_value = time_element.get('datetime') if time_element else None\n",
        "\n",
        "        # Encontrar a div com a classe \"description\"\n",
        "        markdown_div = soup.find('div', class_='description')\n",
        "\n",
        "        # Extrair o texto dentro da div\n",
        "        text_content = markdown_div.get_text(strip=True) if markdown_div else None\n",
        "\n",
        "        job_text_data.append({'url': url, 'data': datetime_value, 'texto': text_content})\n",
        "\n",
        "        time.sleep(1)  # Respeitar o crawl-delay\n",
        "\n",
        "    except requests.exceptions.RequestException as e:\n",
        "        print(f\"Erro ao acessar a URL {url}: {e}\")\n",
        "        job_text_data.append({'url': url, 'texto': None, 'data': None})\n",
        "        if response.status_code == 429:\n",
        "          print('Erro 429. Break')\n",
        "          break\n",
        "    except Exception as e:\n",
        "        print(f\"Ocorreu um erro ao processar a URL {url}: {e}\")\n",
        "        job_text_data.append({'url': url, 'texto': None, 'data': None})\n",
        "\n",
        "# Criar DataFrame com os dados coletados\n",
        "df_job_texts = pd.DataFrame(job_text_data)\n",
        "\n",
        "print(\"\\nDataFrame com URLs e Textos:\")\n",
        "print(df_job_texts)\n",
        "\n",
        "\n",
        "# Salvar o DataFrame como um arquivo CSV no Google Drive\n",
        "file_path = '/content/drive/MyDrive/Agentes/df_job_texts.csv'\n",
        "df_job_texts.to_csv(file_path, index=False)\n",
        "\n",
        "print(f\"DataFrame salvo com sucesso em: {file_path}\")\n"
      ]
    },
    {
      "cell_type": "code",
      "source": [
        "df1000 = pd.read_csv('/content/drive/MyDrive/Agentes/df_job_texts_0-999.csv')\n",
        "df_job_texts = df1000.copy()"
      ],
      "metadata": {
        "id": "qzGRWqiGBl-b"
      },
      "execution_count": null,
      "outputs": []
    },
    {
      "cell_type": "code",
      "execution_count": null,
      "metadata": {
        "id": "QDyXZ0PqVeht"
      },
      "outputs": [],
      "source": [
        "#df_filtered = df_job_datetimes[df_job_datetimes['Datetime'].str.startswith('2025-06-19', na=False)]\n",
        "\n",
        "print(\"DataFrame filtrado para a data 19/06:\")\n",
        "#df_filtered"
      ]
    },
    {
      "cell_type": "markdown",
      "source": [
        "## Adicionando coluna lang"
      ],
      "metadata": {
        "id": "HFWs792XAh76"
      }
    },
    {
      "cell_type": "code",
      "execution_count": null,
      "metadata": {
        "id": "dCmYe88ogxXg"
      },
      "outputs": [],
      "source": [
        "import re\n",
        "\n",
        "lang_list = ['Python', 'JavaScript', 'Java', 'C#', 'C++', 'PHP', 'TypeScript', 'Swift', 'Go', 'Kotlin']\n",
        "\n",
        "def find_languages_in_text(text, lang_list):\n",
        "    found_languages = []\n",
        "    if pd.isna(text):\n",
        "        return []\n",
        "\n",
        "    text_lower = text.lower()\n",
        "\n",
        "    for lang in lang_list:\n",
        "        # Regex para buscar palavra isolada\n",
        "        pattern = r'\\b' + re.escape(lang.lower()) + r'\\b'\n",
        "        if re.search(pattern, text_lower):\n",
        "            found_languages.append(lang)\n",
        "\n",
        "    return found_languages\n",
        "\n",
        "df_job_texts['lang'] = df_job_texts['texto'].apply(lambda x: find_languages_in_text(x, lang_list))\n",
        "\n",
        "print(df_job_texts.head())\n"
      ]
    },
    {
      "cell_type": "code",
      "execution_count": null,
      "metadata": {
        "id": "WlPPo1yKhkyx"
      },
      "outputs": [],
      "source": [
        "# Inicializa um dicionário para contar as linguagens encontradas\n",
        "lang_counts = {}\n",
        "\n",
        "# Itera sobre cada lista de linguagens na coluna 'lang'\n",
        "for langs in df_job_texts['lang']:\n",
        "    # Verifica se a lista de linguagens não é vazia\n",
        "    if langs:\n",
        "        # Itera sobre cada linguagem na lista\n",
        "        for lang in langs:\n",
        "            # Incrementa a contagem para a linguagem atual\n",
        "            lang_counts[lang] = lang_counts.get(lang, 0) + 1\n",
        "\n",
        "# Ordena as linguagens por contagem em ordem decrescente\n",
        "sorted_lang_counts = sorted(lang_counts.items(), key=lambda item: item[1], reverse=True)\n",
        "\n",
        "# Imprime a contagem de linguagens em ordem decrescente\n",
        "print(\"Contagem de linguagens encontradas nos textos (ordem decrescente):\")\n",
        "for lang, count in sorted_lang_counts:\n",
        "    print(f\"{lang}: {count}\")\n"
      ]
    },
    {
      "cell_type": "code",
      "source": [],
      "metadata": {
        "id": "UtsCRjFNDXmR"
      },
      "execution_count": null,
      "outputs": []
    },
    {
      "cell_type": "markdown",
      "source": [
        "Dificuldade de achar C+/C# no texto"
      ],
      "metadata": {
        "id": "NnMsaibmC-It"
      }
    },
    {
      "cell_type": "code",
      "execution_count": null,
      "metadata": {
        "id": "akgGYPLstgMi"
      },
      "outputs": [],
      "source": [
        "df_job_texts['year'] = pd.to_datetime(df_job_texts['data']).dt.year\n",
        "\n",
        "# Explodir a lista de linguagens na coluna 'lang' para que cada linguagem tenha sua própria linha\n",
        "df_exploded = df_job_texts.explode('lang')\n",
        "\n",
        "# Remover as linhas onde 'lang' é None (ocorre quando a lista original está vazia)\n",
        "df_exploded = df_exploded.dropna(subset=['lang'])\n",
        "\n",
        "# Agrupar por ano e linguagem e contar as URLs\n",
        "urls_by_year_and_lang = df_exploded.groupby(['year', 'lang']).size().reset_index(name='url_count')\n",
        "\n",
        "# Ordenar por ano e contagem de URL\n",
        "urls_by_year_and_lang_sorted = urls_by_year_and_lang.sort_values(by=['lang','year', 'url_count'], ascending=[True, True, False])\n",
        "\n",
        "print(\"Quantidade de URLs por ano agrupado por linguagem:\")\n",
        "urls_by_year_and_lang_sorted\n"
      ]
    },
    {
      "source": [
        "from matplotlib import pyplot as plt\n",
        "import seaborn as sns\n",
        "def _plot_series(series, series_name, series_index=0):\n",
        "  palette = list(sns.palettes.mpl_palette('Dark2'))\n",
        "  xs = series['year']\n",
        "  ys = series['url_count']\n",
        "\n",
        "  plt.plot(xs, ys, label=series_name, color=palette[series_index % len(palette)])\n",
        "\n",
        "fig, ax = plt.subplots(figsize=(10, 5.2), layout='constrained')\n",
        "df_sorted = urls_by_year_and_lang_sorted.sort_values('year', ascending=True)\n",
        "for i, (series_name, series) in enumerate(df_sorted.groupby('lang')):\n",
        "  _plot_series(series, series_name, i)\n",
        "  fig.legend(title='lang', bbox_to_anchor=(1, 1), loc='upper left')\n",
        "sns.despine(fig=fig, ax=ax)\n",
        "plt.xlabel('year')\n",
        "_ = plt.ylabel('url_count')"
      ],
      "cell_type": "code",
      "metadata": {
        "id": "GBbMBkL7CbMV"
      },
      "execution_count": null,
      "outputs": []
    },
    {
      "source": [
        "from matplotlib import pyplot as plt\n",
        "import seaborn as sns\n",
        "urls_by_year_and_lang_sorted.groupby('lang').size().plot(kind='barh', color=sns.palettes.mpl_palette('Dark2'))\n",
        "plt.gca().spines[['top', 'right',]].set_visible(False)"
      ],
      "cell_type": "code",
      "metadata": {
        "id": "FVSIKt3JCVBV"
      },
      "execution_count": null,
      "outputs": []
    },
    {
      "cell_type": "code",
      "execution_count": null,
      "metadata": {
        "id": "Watq-vVSUOBl"
      },
      "outputs": [],
      "source": [
        "#df_2024 = df[df['Data de Modificação'].dt.year == 2025].copy()\n",
        "#print(f\"Encontradas {len(df_2024)} URLs de vagas do ano de 2024:\")\n",
        "#df_2024\n"
      ]
    }
  ],
  "metadata": {
    "colab": {
      "provenance": [],
      "toc_visible": true
    },
    "kernelspec": {
      "display_name": "Python 3",
      "name": "python3"
    },
    "language_info": {
      "name": "python"
    }
  },
  "nbformat": 4,
  "nbformat_minor": 0
}